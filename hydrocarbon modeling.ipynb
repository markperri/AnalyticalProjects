{
 "cells": [
  {
   "cell_type": "markdown",
   "id": "1c471498",
   "metadata": {},
   "source": [
    "# read in a file with data on 193 hydrocarbons"
   ]
  },
  {
   "cell_type": "code",
   "execution_count": null,
   "id": "9afdada4",
   "metadata": {},
   "outputs": [],
   "source": [
    "# taken from ESCIP + MOLSSI python workshop"
   ]
  },
  {
   "cell_type": "code",
   "execution_count": null,
   "id": "9fb1388b",
   "metadata": {},
   "outputs": [],
   "source": [
    "import pandas as pd\n",
    "df = pd.read_csv(\"data/hydrocarbons.csv\")\n",
    "df"
   ]
  },
  {
   "cell_type": "code",
   "execution_count": null,
   "id": "a1025fea",
   "metadata": {},
   "outputs": [],
   "source": [
    "from rdkit.Chem import PandasTools\n",
    "PandasTools.AddMoleculeColumnToFrame(df, \"smiles\", \"Molecule\", includeFingerprints=True)\n",
    "from rdkit.Chem import Descriptors\n",
    "df[\"NumAromaticRings\"] = df[\"Molecule\"].apply(Descriptors.NumAromaticRings)\n",
    "df[\"NumValenceElectrons\"] = df[\"Molecule\"].apply(Descriptors.NumValenceElectrons)\n",
    "df[\"MolWt\"] = df[\"Molecule\"].apply(Descriptors.MolWt)\n",
    "df.dropna(axis=0, how=\"any\", inplace=True)"
   ]
  },
  {
   "cell_type": "markdown",
   "id": "5ef6d258",
   "metadata": {},
   "source": [
    "# let's see if any of the properties of a molecule are correlated"
   ]
  },
  {
   "cell_type": "code",
   "execution_count": null,
   "id": "bb234d4c",
   "metadata": {},
   "outputs": [],
   "source": [
    "import seaborn as sns\n",
    "sns.heatmap(df.corr(), cmap=\"rocket_r\", annot=True)"
   ]
  },
  {
   "cell_type": "markdown",
   "id": "96f2d408",
   "metadata": {},
   "source": [
    "# plot two properties vs each other to see if they look correlated"
   ]
  },
  {
   "cell_type": "code",
   "execution_count": null,
   "id": "172e2281",
   "metadata": {},
   "outputs": [],
   "source": [
    "sns.lmplot(x='NumValenceElectrons',y=\"Boiling point\", data=df)"
   ]
  },
  {
   "cell_type": "code",
   "execution_count": null,
   "id": "fe6b077e",
   "metadata": {},
   "outputs": [],
   "source": [
    "from sklearn.ensemble import RandomForestRegressor\n",
    "from sklearn.model_selection import train_test_split\n",
    "randomforest= RandomForestRegressor()"
   ]
  },
  {
   "cell_type": "markdown",
   "id": "f7516835",
   "metadata": {},
   "source": [
    "# train the model to predict one property based on another"
   ]
  },
  {
   "cell_type": "code",
   "execution_count": null,
   "id": "b3a1612b",
   "metadata": {},
   "outputs": [],
   "source": [
    "# choose any combination you think are correlated:\n",
    "# numValenceElectrons, numAromaticRings, Boiling point, Melting point, MolWt\n",
    "X = df[[\"NumValenceElectrons\"]]\n",
    "Y = df[[\"Boiling point\"]]\n",
    "X_train, X_test, Y_train, Y_test = train_test_split(X, Y, test_size=0.33, random_state=42)\n",
    "randomforest.fit(X_train,Y_train)"
   ]
  },
  {
   "cell_type": "markdown",
   "id": "db2e79c5",
   "metadata": {},
   "source": [
    "# test the model.  Does your X value predict the Y value?"
   ]
  },
  {
   "cell_type": "code",
   "execution_count": null,
   "id": "80b72186",
   "metadata": {},
   "outputs": [],
   "source": [
    "df['predicted'] = randomforest.predict(X)\n",
    "sns.lmplot(x='predicted',y=\"Boiling point\", data=df)"
   ]
  },
  {
   "cell_type": "code",
   "execution_count": null,
   "id": "7322bdc7",
   "metadata": {},
   "outputs": [],
   "source": []
  }
 ],
 "metadata": {
  "kernelspec": {
   "display_name": "Python 3 (ipykernel)",
   "language": "python",
   "name": "python3"
  },
  "language_info": {
   "codemirror_mode": {
    "name": "ipython",
    "version": 3
   },
   "file_extension": ".py",
   "mimetype": "text/x-python",
   "name": "python",
   "nbconvert_exporter": "python",
   "pygments_lexer": "ipython3",
   "version": "3.9.7"
  }
 },
 "nbformat": 4,
 "nbformat_minor": 5
}
