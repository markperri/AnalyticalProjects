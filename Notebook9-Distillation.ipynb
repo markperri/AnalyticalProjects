{
 "cells": [
  {
   "cell_type": "markdown",
   "metadata": {},
   "source": [
    "In this notebook you are going to calculate the expected distillation phase digram for the benzene-toluene system, making the assumption that the benzene-toluene system behaves ideally. For this notebook we will need the numpy and matplotlib.pyplot packages."
   ]
  },
  {
   "cell_type": "code",
   "execution_count": 1,
   "metadata": {
    "collapsed": true
   },
   "outputs": [],
   "source": [
    "import numpy as np\n",
    "import matplotlib.pyplot as plt\n"
   ]
  },
  {
   "cell_type": "markdown",
   "metadata": {},
   "source": [
    "To calculate a distillation phase diagram you will need a few things. The first thing you will need is a way to calculate boiling temperature for a liquid, the second is a way to calculate vapor pressure of a liquid at a given temperature, and then, finally, you will need a way to calculate the mole fraction of a compound in the vapor phase, knowing the mole fraction of a compound in a mixture and the compound's vapor pressure. For the first two items we can use the Clausius-Clapeyron equation:\n",
    "\n",
    "$$ ln\\frac{P_{1}}{P_{2}} = \\frac{\\Delta H_{vap}}{R}(\\frac{1}{T_{2}} - \\frac{1}{T_{1}})$$\n",
    "\n",
    "where $\\Delta H_{vap}$ is the enthalpy of vaporization for a given compound, $R$ is the gas constant (8.314 J mol$^{-1}$), $P_{1}$ is the vapor pressure of the compound at $T_{1}$, and $P_{2}$ is the vapor pressure of the compound at $T_{2}$.\n",
    "\n",
    "In the box below, write three functions. The first will be an implementation of the Clausius-Clapeyron equation that takes $P_{1}$, $P_{2}$, $T_{1}$, and $\\Delta H_{vap}$ for a compound as inputs and returns $T_{2}$. The second will also be an implementation of the Clausius-Clapeyron equation, but will take $P_{1}$, $T_{1}$, $T_{2}$, and $\\Delta H_{vap}$ for a compound as inputs and returns $P_{2}$. The final function will be an implementation of Raoult's law, and take mole fraction and vapor pressure of a compound as inputs and return the partial pressure of the compound."
   ]
  },
  {
   "cell_type": "code",
   "execution_count": null,
   "metadata": {
    "collapsed": true
   },
   "outputs": [],
   "source": [
    "\n"
   ]
  },
  {
   "cell_type": "markdown",
   "metadata": {},
   "source": [
    "It's always a good idea to test functions once you've written them, to make sure there aren't any errors. So, let's do a quick check of the first two functions (the third should be short enough there's no reason to check it). Toluene has a vapor pressure of 22 mmHg at 20 $^{o}$C and a $\\Delta H_{vap}$ of 37.3 kJ mol$^{-1}$. Benzene has a vapor pressure of 76 mmHg at 20 $^{o}$C and a $\\Delta H_{vap}$ of 33.9 kJ mol$^{-1}$. In the box below, use the first function you wrote to calculate the boiling point (in $^{o}$C) of toluene and benzene, and use the second equation you wrote to calculate the vapor pressure for toluene and benzene at 40 $^{o}$C. Your calculated vapor pressures should be close to the real values, which you can look up for [toluene](https://pubs.acs.org/doi/10.1021/ie50241a004) and [benzene](https://en.wikipedia.org/wiki/Benzene_%28data_page%29).\n",
    "\n",
    "Remember that the boiling point for a liquid is defined as the temperature where the liquid's vapor pressure equals atmospheric pressure (760 mmHg)! In addition, you will need to be careful with units, as $R$ is in units of J mol$^{-1}$ whereas $\\Delta H_{vap}$ is in units of kJ mol$^{-1}$, and the Clausius-Clapeyron equation needs temperatures in K, not $^{o}$C."
   ]
  },
  {
   "cell_type": "code",
   "execution_count": null,
   "metadata": {},
   "outputs": [],
   "source": [
    "\n"
   ]
  },
  {
   "cell_type": "markdown",
   "metadata": {},
   "source": [
    "As a second test, calculate the boiling point for a mixed solution that is 40 mol% toluene and 60 mol% benzene. Then, calculate the vapor pressure of toluene and benzene at this temperature, and use your third function (plus Dalton's law) to calculate the molar ratio of toluene and benzene in the vapor phase. When you are calculating the boiling temperature of the mixture, use the weighted average of the enthalpies for your overall solution enthalpy (i.e. $\\Delta H_{vap, mix}$ = .4 x $\\Delta H_{vap, tol}$ + .6 x $\\Delta H_{vap, benz}$)."
   ]
  },
  {
   "cell_type": "code",
   "execution_count": null,
   "metadata": {},
   "outputs": [],
   "source": [
    "\n"
   ]
  },
  {
   "cell_type": "markdown",
   "metadata": {},
   "source": [
    "If everything is working, you should get a boiling temperature of 85 $^{o}$C, a toluene vapor pressure of 358 mmHg, a benzene vapor pressure of 959 mmHg, and a vapor phase molar ratio of 20:80 toluene:benzene.\n",
    "\n",
    "Once you have that working, graph the boiling temperature for a toluene:benzene mixture as a function of molar fraction of toluene, from 0 to 1."
   ]
  },
  {
   "cell_type": "code",
   "execution_count": null,
   "metadata": {
    "collapsed": true
   },
   "outputs": [],
   "source": [
    "\n"
   ]
  },
  {
   "cell_type": "code",
   "execution_count": null,
   "metadata": {},
   "outputs": [],
   "source": [
    "\n"
   ]
  },
  {
   "cell_type": "markdown",
   "metadata": {},
   "source": [
    "Now, calculate and graph the molar fraction of toluene in the vapor for each of those temperatures. Keep the mole fraction of toluene as the x-axis and the temperature as the y-axis."
   ]
  },
  {
   "cell_type": "code",
   "execution_count": null,
   "metadata": {
    "collapsed": true
   },
   "outputs": [],
   "source": [
    "\n"
   ]
  },
  {
   "cell_type": "code",
   "execution_count": null,
   "metadata": {},
   "outputs": [],
   "source": [
    "\n"
   ]
  },
  {
   "cell_type": "markdown",
   "metadata": {},
   "source": [
    "Graph both curves on the same graph. You now have the distillation phase diagram for the benzene-toluene system (assuming the solution behaves ideally)!"
   ]
  },
  {
   "cell_type": "code",
   "execution_count": null,
   "metadata": {},
   "outputs": [],
   "source": [
    "\n"
   ]
  },
  {
   "cell_type": "code",
   "execution_count": null,
   "metadata": {
    "collapsed": true
   },
   "outputs": [],
   "source": []
  }
 ],
 "metadata": {
  "kernelspec": {
   "display_name": "Python 3",
   "language": "python",
   "name": "python3"
  },
  "language_info": {
   "codemirror_mode": {
    "name": "ipython",
    "version": 3
   },
   "file_extension": ".py",
   "mimetype": "text/x-python",
   "name": "python",
   "nbconvert_exporter": "python",
   "pygments_lexer": "ipython3",
   "version": "3.6.2"
  }
 },
 "nbformat": 4,
 "nbformat_minor": 2
}
