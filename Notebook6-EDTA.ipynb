{
 "cells": [
  {
   "cell_type": "markdown",
   "metadata": {},
   "source": [
    "In this notebook you're going to do some calculations with EDTA. By this point you've had quite a bit of practice with jupyter and python, so I'm going to leave most of the code blank. I've started by importing a couple of packages, but you may need to import more."
   ]
  },
  {
   "cell_type": "code",
   "execution_count": 1,
   "metadata": {
    "collapsed": true
   },
   "outputs": [],
   "source": [
    "import numpy as np\n",
    "import matplotlib.pyplot as plt\n",
    "\n"
   ]
  },
  {
   "cell_type": "markdown",
   "metadata": {},
   "source": [
    "EDTA has five different species that it can form in solution. The short hand notation for these forms, in order of decreasing protonation, is H$_{4}$Y, H$_{3}$Y$^{-}$, H$_{2}$Y$^{2-}$, HY$^{3-}$, and Y$^{4-}$. The relative concentrations of these species is pH dependent, and can be calculated with the alpha values for each species:\n",
    "\n",
    "$$\n",
    "\\alpha_{0} = \\frac{[H^{+}]^{4}}{D}\\\\\n",
    "\\alpha_{1} = \\frac{K_{1}[H^{+}]^{3}}{D}\\\\\n",
    "\\alpha_{2} = \\frac{K_{1}K_{2}[H^{+}]^{2}}{D}\\\\\n",
    "\\alpha_{3} = \\frac{K_{1}K_{2}K_{3}[H^{+}]}{D}\\\\\n",
    "\\alpha_{4} = \\frac{K_{1}K_{2}K_{3}K_{4}}{D}\\\\\n",
    "$$\n",
    "where:\n",
    "$$\n",
    "D = [H^{+}]^{4} + K_{1}[H^{+}]^{3} + K_{1}K_{2}[H^{+}]^{2} + K_{1}K_{2}K_{3}[H^{+}] + K_{1}K_{2}K_{3}K_{4}\n",
    "$$\n",
    "\n",
    "In the box below write *five functions*, named alpha0(), alpha1(), alpha2(), alpha3(), and alpha4(), that takes pH (not [H$^{+}$]!)  as an input and returns the correct alpha value. Numpy has a power() function that might be useful, although it complains if you raise an integer to a negative integer so you'll want to raise 10.0, not 10, to the -pH."
   ]
  },
  {
   "cell_type": "code",
   "execution_count": null,
   "metadata": {
    "collapsed": true
   },
   "outputs": [],
   "source": []
  },
  {
   "cell_type": "markdown",
   "metadata": {},
   "source": [
    "Now, graph your functions vs pH, all on the same graph. Your graph should look a lot like figure 17-5. Be sure to label your graph and axes correctly, and use a different color for each curve."
   ]
  },
  {
   "cell_type": "code",
   "execution_count": null,
   "metadata": {
    "collapsed": true
   },
   "outputs": [],
   "source": []
  },
  {
   "cell_type": "markdown",
   "metadata": {},
   "source": [
    "Finally, in the box below, *explain* how you would use one or more of these functions to calculate an expected titration curve of a metal at a given pH. Example 17-5 might help, although your explanation should be briefer than that."
   ]
  },
  {
   "cell_type": "markdown",
   "metadata": {},
   "source": [
    "# Answer here"
   ]
  }
 ],
 "metadata": {
  "kernelspec": {
   "display_name": "Python 3",
   "language": "python",
   "name": "python3"
  },
  "language_info": {
   "codemirror_mode": {
    "name": "ipython",
    "version": 3
   },
   "file_extension": ".py",
   "mimetype": "text/x-python",
   "name": "python",
   "nbconvert_exporter": "python",
   "pygments_lexer": "ipython3",
   "version": "3.6.2"
  }
 },
 "nbformat": 4,
 "nbformat_minor": 2
}
