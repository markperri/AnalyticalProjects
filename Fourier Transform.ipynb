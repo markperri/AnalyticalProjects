{
 "cells": [
  {
   "cell_type": "code",
   "execution_count": null,
   "id": "766cdcbd",
   "metadata": {},
   "outputs": [],
   "source": [
    "# adapted from:  https://notebook.community/mholtrop/Phys605/Python/FFT/FFT+example1"
   ]
  },
  {
   "cell_type": "code",
   "execution_count": null,
   "id": "dbf7ca5c",
   "metadata": {},
   "outputs": [],
   "source": [
    "%matplotlib inline\n",
    "import numpy as np\n",
    "import matplotlib.pyplot as plt\n",
    "from scipy.fftpack import fft, ifft, fftfreq, fftshift, ifftshift"
   ]
  },
  {
   "cell_type": "code",
   "execution_count": null,
   "id": "f9e82cfa",
   "metadata": {},
   "outputs": [],
   "source": [
    "T = 20.     # The length of time determines the resolution of the FFT: how many bins per Hz.\n",
    "N = 10001   # The total number of points determines the resolution in time: bins per sec. \n",
    "            # This translates to the highest available frequency on the FFT\n",
    "N=  2**20 # In general FFTs go faster if you do them over 2 to the power N points.\n",
    "DT = T/N\n",
    "t = np.linspace(0.,T,N)"
   ]
  },
  {
   "cell_type": "code",
   "execution_count": null,
   "id": "7cb56092",
   "metadata": {},
   "outputs": [],
   "source": [
    "# We will have three sin waves added together\n",
    "# Enter the amplitude and frequency of the sin waves (units are Hz).  Stay between 1-20\n",
    "A1 = 1\n",
    "F1 = 5\n",
    "\n",
    "A2 = 1.5\n",
    "F2 = 10\n",
    "\n",
    "A3 = 2\n",
    "F3 = 18\n",
    "\n",
    "y = A1*np.sin(2*np.pi*F1*t)+A2*np.sin(2*np.pi*F2*t)+A3*np.sin(2*np.pi*F3*t)"
   ]
  },
  {
   "cell_type": "code",
   "execution_count": null,
   "id": "eef31d53",
   "metadata": {},
   "outputs": [],
   "source": [
    "plt.figure(figsize=(10,5))\n",
    "plt.plot(t,y)\n",
    "plt.grid(True)\n",
    "plt.xlabel(\"time(s)\",position=(0.95,1))\n",
    "plt.ylabel(\"signal(V)\",position=(1,0.9))\n",
    "ax = plt.gca()\n",
    "ax.set_xlim(0.,1.)\n",
    "plt.show()"
   ]
  },
  {
   "cell_type": "code",
   "execution_count": null,
   "id": "fa8bff21",
   "metadata": {},
   "outputs": [],
   "source": [
    "f_fft = fftshift(fftfreq(N,DT))  # Calculate the frequencies, and shift so that f=0Hz is in the center.\n",
    "y_fft = fftshift(fft(y))         # Calculate the FFT, and also shift so that f=0Hz is in the center.\n",
    "plt.figure(figsize=(10,5))\n",
    "plt.plot(f_fft,2./N*np.abs(y_fft)) # Note: the 2./N properly normalizes the FFT amplitude to be in Volts.\n",
    "plt.grid(True)\n",
    "ax = plt.gca()\n",
    "ax.set_xlim(0,30)        # Zoom in: plot only from 0 to 30 Hz.\n",
    "# plt.yscale(\"log\")      # Uncomment these to get a log-y scale.\n",
    "# ax.set_ylim(1e-4,1)\n",
    "plt.xlabel(\"Frequency[Hz]\",position=(0.95,1))\n",
    "plt.ylabel(\"signal[Volt]\",position=(1,0.8))\n",
    "plt.show()"
   ]
  },
  {
   "cell_type": "code",
   "execution_count": null,
   "id": "c543f0cb",
   "metadata": {},
   "outputs": [],
   "source": []
  }
 ],
 "metadata": {
  "kernelspec": {
   "display_name": "Python 3 (ipykernel)",
   "language": "python",
   "name": "python3"
  },
  "language_info": {
   "codemirror_mode": {
    "name": "ipython",
    "version": 3
   },
   "file_extension": ".py",
   "mimetype": "text/x-python",
   "name": "python",
   "nbconvert_exporter": "python",
   "pygments_lexer": "ipython3",
   "version": "3.9.7"
  }
 },
 "nbformat": 4,
 "nbformat_minor": 5
}
