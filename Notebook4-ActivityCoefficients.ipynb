{
 "cells": [
  {
   "cell_type": "markdown",
   "metadata": {},
   "source": [
    "This notebook will be used to calculate the solubility of mercury (I) chloride in solutions of potassium nitrate, taking activities into account. First things, import dependencies:"
   ]
  },
  {
   "cell_type": "code",
   "execution_count": 1,
   "metadata": {
    "collapsed": true
   },
   "outputs": [],
   "source": [
    "import numpy as np\n",
    "import matplotlib.pyplot as plt\n",
    "import scipy.optimize as opt"
   ]
  },
  {
   "cell_type": "markdown",
   "metadata": {},
   "source": [
    "For this notebook, we are going to find the solubility of mercury (I) chloride in potassium nitrate at varying ionic strengths. The reaction we are interested in is:\n",
    "\n",
    "$$\\textrm{Hg}_{2}\\textrm{Cl}_{2(s)} \\rightarrow \\textrm{Hg}^{2+}_{2(aq)} + 2 \\textrm{Cl}^{-}_{(aq)} \\qquad \\textrm{K}_{sp} = 1.3 \\textrm{x} 10^{-18}$$\n",
    "\n",
    "Before we do anything real, let's set up some constants. We need to know the $\\textrm{K}_{sp}$, hydrated radii of the $\\textrm{Hg}^{2+}_{2(aq)}$ and $\\textrm{Cl}^{-}_{(aq)}$ ions, and the charge of the ions."
   ]
  },
  {
   "cell_type": "code",
   "execution_count": 2,
   "metadata": {
    "collapsed": true
   },
   "outputs": [],
   "source": [
    "calomel_Ksp = 1.3E-18\n",
    "Hg2_rad = 0.5\n",
    "Hg2_charge = 2\n",
    "Cl_rad = 0.3\n",
    "Cl_charge = -1"
   ]
  },
  {
   "cell_type": "markdown",
   "metadata": {},
   "source": [
    "As a quick check, to have a feel for what order of magnitude we should expect for $\\textrm{Hg}_{2}\\textrm{Cl}_{2(s)}$ solubility, on a piece of paper calculate the solubility of $\\textrm{Hg}_{2}\\textrm{Cl}_{2(s)}$ in pure water. What is the solubility you calculated?\n",
    "\n",
    "To calculate the activity coefficients for the $\\textrm{Hg}^{2+}_{2(aq)}$ and $\\textrm{Cl}^{-}_{(aq)}$ ions, we need to use the Debye-H&uuml;ckel equation. Here's the Debye-H&uuml;ckel equation defined as a function."
   ]
  },
  {
   "cell_type": "code",
   "execution_count": 3,
   "metadata": {
    "collapsed": true
   },
   "outputs": [],
   "source": [
    "def debye_huck(mu, charge, radius):\n",
    "    return 10**(-(0.51 * charge**2 * np.sqrt(mu))/(1 + 3.3 * radius * np.sqrt(mu)))\n"
   ]
  },
  {
   "cell_type": "markdown",
   "metadata": {},
   "source": [
    "Now that we've got the Debye-H&uuml;ckel equation as a function, we can calculate the activity coefficient for the $\\textrm{Hg}^{2+}_{2(aq)}$ and $\\textrm{Cl}^{-}_{(aq)}$ ions. So, let's calculate the activity coefficients for the $\\textrm{Hg}^{2+}_{2(aq)}$ and $\\textrm{Cl}^{-}_{(aq)}$ ions and use those to calculate the $\\textrm{K}^{'}_{sp}$ for the solubility reaction, above, then use this to calculate the solubility of $\\textrm{Hg}_{2}\\textrm{Cl}_{2(s)}$ in 0.001 potassium nitrate."
   ]
  },
  {
   "cell_type": "code",
   "execution_count": 7,
   "metadata": {},
   "outputs": [
    {
     "name": "stdout",
     "output_type": "stream",
     "text": [
      "The activity of the mercury (I) ion is 0.868, the activity of the chloride ion is 0.965, the Ksp' is 1.61E-18, and the solubility is 7.38E-07\n"
     ]
    }
   ],
   "source": [
    "Hg2_activity = debye_huck(0.001, Hg2_charge, Hg2_rad)\n",
    "Cl_activity = debye_huck(0.001, Cl_charge, Cl_rad)\n",
    "calomel_KspPrime = calomel_Ksp/(Hg2_activity * Cl_activity**2)\n",
    "solubility = (calomel_KspPrime/4)**(1.0/3)\n",
    "print(\"The activity of the mercury (I) ion is\", \"{:.3},\".format(Hg2_activity), \n",
    "      \"the activity of the chloride ion is\", \"{:.3},\".format(Cl_activity), \n",
    "      \"the Ksp' is\", \"{:.2E},\".format(calomel_KspPrime),\n",
    "      \"and the solubility is\",\"{:.2E}\".format(solubility))"
   ]
  },
  {
   "cell_type": "markdown",
   "metadata": {},
   "source": [
    "Using the Debye-H&uuml;ckel equation defined above and the Python you have learned so far, graph the solubility of $\\textrm{Hg}_{2}\\textrm{Cl}_{2(s)}$ in solutions of potassium nitrate  where [KNO$_{3}$] ranges from 0 to 0.1 M."
   ]
  },
  {
   "cell_type": "code",
   "execution_count": null,
   "metadata": {
    "collapsed": true
   },
   "outputs": [],
   "source": []
  }
 ],
 "metadata": {
  "kernelspec": {
   "display_name": "Python 3",
   "language": "python",
   "name": "python3"
  },
  "language_info": {
   "codemirror_mode": {
    "name": "ipython",
    "version": 3
   },
   "file_extension": ".py",
   "mimetype": "text/x-python",
   "name": "python",
   "nbconvert_exporter": "python",
   "pygments_lexer": "ipython3",
   "version": "3.6.2"
  }
 },
 "nbformat": 4,
 "nbformat_minor": 2
}
